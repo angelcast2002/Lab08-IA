{
 "cells": [
  {
   "cell_type": "markdown",
   "metadata": {},
   "source": [
    "# Task 1 - Teoría"
   ]
  },
  {
   "cell_type": "markdown",
   "metadata": {},
   "source": [
    "1. Investigar el algoritmo AC-3 y su relación con el algoritmo de backtracking search"
   ]
  },
  {
   "cell_type": "markdown",
   "metadata": {},
   "source": [
    "2. Defina en sus propias palabras el término “Arc Consistency”"
   ]
  },
  {
   "cell_type": "markdown",
   "metadata": {},
   "source": [
    "# Task 2 - CSP con Backtracking, Beam y Local Search"
   ]
  },
  {
   "cell_type": "code",
   "execution_count": 61,
   "metadata": {},
   "outputs": [],
   "source": [
    "import time"
   ]
  },
  {
   "cell_type": "markdown",
   "metadata": {},
   "source": [
    "## Definición de variables y restricciones"
   ]
  },
  {
   "cell_type": "code",
   "execution_count": 62,
   "metadata": {},
   "outputs": [],
   "source": [
    "from itertools import combinations\n",
    "\n",
    "dias = ['lunes', 'martes', 'miercoles']\n",
    "\n",
    "# Definimos los exámenes y los estudiantes que toman cada examen\n",
    "examenes = ['IA', 'ADA', 'COMPIS', 'CALCULO', 'FISICA', 'QUIMICA', 'BIOLOGIA']\n",
    "estudiantes_por_examen = {\n",
    "    'IA': ['Angel', 'Alejandro'],\n",
    "    'ADA': ['Diego'],\n",
    "    'COMPIS': ['Alejandro', 'Mark'],\n",
    "    'CALCULO': ['Angel', 'Mark'],\n",
    "    'FISICA': ['Mark', 'Diego'],\n",
    "    'QUIMICA': ['Diego', 'Angel'],\n",
    "    'BIOLOGIA': ['Alejandro'],\n",
    "}\n",
    "\n",
    "\n",
    "# Definimos las variables que representan los exámenes y sus posibles días\n",
    "variables = {examen: dias for examen in examenes}\n"
   ]
  },
  {
   "cell_type": "markdown",
   "metadata": {},
   "source": [
    "## Verificar si la asignación es válida"
   ]
  },
  {
   "cell_type": "code",
   "execution_count": 63,
   "metadata": {},
   "outputs": [],
   "source": [
    "# Definimos la función para verificar si una asignación es válida\n",
    "def esValida(asignacion):\n",
    "    # Verificar que los estudiantes que toman el mismo curso no tengan examen el mismo día\n",
    "    for examen1, examen2 in combinations(variables, 2):\n",
    "        if asignacion[examen1] == asignacion[examen2]:\n",
    "            estudiantes_examen1 = set(estudiantes_por_examen[examen1])\n",
    "            estudiantes_examen2 = set(estudiantes_por_examen[examen2])\n",
    "            if len(estudiantes_examen1.intersection(estudiantes_examen2)) > 0:\n",
    "                return False\n",
    "\n",
    "    # Verificar que ningún estudiante tenga más de un examen por día\n",
    "    for dia in dias:\n",
    "        examenesPorDia = [examen for examen, diaAsignado in asignacion.items() if diaAsignado == dia]\n",
    "        estudiantesPorDia = set()\n",
    "        for examen in examenesPorDia:\n",
    "            estudiantesPorDia.update(estudiantes_por_examen[examen])\n",
    "        if len(estudiantesPorDia) < len(examenesPorDia):\n",
    "            return False\n",
    "\n",
    "    return True"
   ]
  },
  {
   "cell_type": "markdown",
   "metadata": {},
   "source": [
    "## BackTraking"
   ]
  },
  {
   "cell_type": "code",
   "execution_count": 64,
   "metadata": {},
   "outputs": [],
   "source": [
    "class backTraking:\n",
    "  def __init__(self, variables, dias, estudiantes_por_examen, esValida):\n",
    "        self.variables = variables\n",
    "        self.dias = dias\n",
    "        self.estudiantes_por_examen = estudiantes_por_examen\n",
    "        self.esValida = esValida\n",
    "        self.asignacion = {}\n",
    "\n",
    "  def backtracking_search(self):\n",
    "    # Si la asignación es completa y válida, devolverla\n",
    "    if set(self.asignacion.keys()) == set(self.variables) and self.esValida(self.asignacion):\n",
    "        return self.asignacion\n",
    "\n",
    "    # Seleccionar un examen sin asignar\n",
    "    for examen in self.variables:\n",
    "        if examen not in self.asignacion:\n",
    "            # Para cada día, asignar ese día al examen y hacer una llamada recursiva\n",
    "            for dia in self.dias:\n",
    "                self.asignacion[examen] = dia\n",
    "                result = self.backtracking_search()\n",
    "\n",
    "                # Si la llamada recursiva devuelve una asignación válida, devolver esa asignación\n",
    "                if result is not None:\n",
    "                    return result\n",
    "\n",
    "                # Si no, deshacer la asignación del día al examen\n",
    "                del self.asignacion[examen]\n",
    "\n",
    "    # Si ninguno de los días resulta en una asignación válida, devolver None\n",
    "    return None"
   ]
  },
  {
   "cell_type": "code",
   "execution_count": 65,
   "metadata": {},
   "outputs": [
    {
     "name": "stdout",
     "output_type": "stream",
     "text": [
      "Tiempo de ejecución:  0.07100486755371094\n",
      "{'IA': 'lunes', 'ADA': 'martes', 'COMPIS': 'miercoles', 'CALCULO': 'martes', 'FISICA': 'lunes', 'QUIMICA': 'miercoles', 'BIOLOGIA': 'martes'}\n"
     ]
    }
   ],
   "source": [
    "scheduler = backTraking(variables, dias, estudiantes_por_examen, esValida)\n",
    "startTime = time.time()\n",
    "result = scheduler.backtracking_search()\n",
    "endTime = time.time()\n",
    "print(\"Tiempo de ejecución: \", endTime - startTime)\n",
    "print(result)"
   ]
  },
  {
   "cell_type": "markdown",
   "metadata": {},
   "source": [
    "## Beam Search"
   ]
  },
  {
   "cell_type": "code",
   "execution_count": 66,
   "metadata": {},
   "outputs": [],
   "source": [
    "# Redefinición de esValida. \n",
    "def es_valido(estado):\n",
    "    for dia in dias:\n",
    "        examenes_dia = [e for e, d in estado.items() if d == dia]\n",
    "        estudiantes_por_dia = {}\n",
    "        for examen in examenes_dia:\n",
    "            estudiantes = estudiantes_por_examen[examen]\n",
    "            for estudiante in estudiantes:\n",
    "                if estudiante in estudiantes_por_dia:\n",
    "                    return False  # Mismo estudiante con más de un examen en un día\n",
    "                estudiantes_por_dia[estudiante] = True\n",
    "    return True"
   ]
  },
  {
   "cell_type": "code",
   "execution_count": 67,
   "metadata": {},
   "outputs": [],
   "source": [
    "# Función para evaluar un estado utilizando una heurística (en este caso, cantidad de restricciones incumplidas)\n",
    "def evaluar_estado(estado):\n",
    "    restricciones_incumplidas = 0\n",
    "    estudiantes_por_dia_por_examen = {examen: {dia: [] for dia in dias} for examen in examenes}\n",
    "    for examen, dia in estado.items():\n",
    "        estudiantes = estudiantes_por_examen[examen]\n",
    "        for estudiante in estudiantes:\n",
    "            if estudiante in estudiantes_por_dia_por_examen[examen][dia]:\n",
    "                restricciones_incumplidas += 1  # Mismo estudiante con más de un examen en un día\n",
    "            estudiantes_por_dia_por_examen[examen][dia].append(estudiante)\n",
    "    return -restricciones_incumplidas  # Queremos minimizar las restricciones incumplidas"
   ]
  },
  {
   "cell_type": "code",
   "execution_count": 68,
   "metadata": {},
   "outputs": [],
   "source": [
    "from itertools import permutations\n",
    "\n",
    "# Algoritmo de beam search\n",
    "def beam_search(beam_width):\n",
    "    mejor_estado = None\n",
    "    mejor_puntaje = float('-inf')\n",
    "    for permutacion in permutations(examenes):\n",
    "        estado = {examen: None for examen in examenes}\n",
    "        for i, examen in enumerate(permutacion):\n",
    "            estado[examen] = dias[i % len(dias)]\n",
    "        if es_valido(estado):\n",
    "            puntaje_actual = evaluar_estado(estado)\n",
    "            if puntaje_actual > mejor_puntaje:\n",
    "                mejor_estado = estado\n",
    "                mejor_puntaje = puntaje_actual\n",
    "    return mejor_estado\n"
   ]
  },
  {
   "cell_type": "code",
   "execution_count": 69,
   "metadata": {},
   "outputs": [
    {
     "name": "stdout",
     "output_type": "stream",
     "text": [
      "Tiempo de ejecución:  0.00899958610534668\n",
      "Solución encontrada:\n",
      "{'IA': 'martes', 'ADA': 'lunes', 'COMPIS': 'miercoles', 'CALCULO': 'lunes', 'FISICA': 'martes', 'QUIMICA': 'miercoles', 'BIOLOGIA': 'lunes'}\n"
     ]
    }
   ],
   "source": [
    "startTime = time.time()\n",
    "solucion = beam_search(5)\n",
    "endTime = time.time()\n",
    "print(\"Tiempo de ejecución: \", endTime - startTime)\n",
    "print(\"Solución encontrada:\")\n",
    "print(solucion)"
   ]
  },
  {
   "cell_type": "markdown",
   "metadata": {},
   "source": [
    "## Local Search"
   ]
  },
  {
   "cell_type": "code",
   "execution_count": 70,
   "metadata": {},
   "outputs": [],
   "source": [
    "import random\n",
    "\n",
    "class LocalSearch:\n",
    "    def __init__(self, variables, dias, estudiantes_por_examen, esValida):\n",
    "        self.variables = variables\n",
    "        self.dias = dias\n",
    "        self.estudiantes_por_examen = estudiantes_por_examen\n",
    "        self.esValida = esValida\n",
    "        self.asignacion = self.generar_asignacion_inicial()\n",
    "\n",
    "    def generar_asignacion_inicial(self):\n",
    "        # Generar una asignación inicial aleatoria\n",
    "        asignacion = {}\n",
    "        for examen in self.variables:\n",
    "            asignacion[examen] = random.choice(self.dias)\n",
    "        return asignacion\n",
    "\n",
    "    def generar_vecinos(self):\n",
    "        # Generar todas las soluciones vecinas cambiando un examen de día\n",
    "        vecinos = []\n",
    "        for examen in self.variables:\n",
    "            for dia in self.dias:\n",
    "                if self.asignacion[examen] != dia:\n",
    "                    vecino = self.asignacion.copy()\n",
    "                    vecino[examen] = dia\n",
    "                    vecinos.append(vecino)\n",
    "        return vecinos\n",
    "\n",
    "    def local_search(self):\n",
    "        while True:\n",
    "            vecinos = self.generar_vecinos()\n",
    "            # Ordenar los vecinos por su valor de evaluación\n",
    "            vecinos.sort(key=self.esValida, reverse=True)\n",
    "            # Si el mejor vecino es peor que la solución actual, devolver la solución actual\n",
    "            if not self.esValida(vecinos[0]):\n",
    "                return self.asignacion\n",
    "            # Si no, actualizar la solución actual al mejor vecino\n",
    "            self.asignacion = vecinos[0]"
   ]
  },
  {
   "cell_type": "code",
   "execution_count": 71,
   "metadata": {},
   "outputs": [
    {
     "name": "stdout",
     "output_type": "stream",
     "text": [
      "Tiempo de ejecución:  0.0\n",
      "{'IA': 'martes', 'ADA': 'miercoles', 'COMPIS': 'martes', 'CALCULO': 'martes', 'FISICA': 'miercoles', 'QUIMICA': 'martes', 'BIOLOGIA': 'martes'}\n"
     ]
    }
   ],
   "source": [
    "scheduler = LocalSearch(variables, dias, estudiantes_por_examen, esValida)\n",
    "startTime = time.time()\n",
    "result = scheduler.local_search()\n",
    "endTime = time.time()\n",
    "print(\"Tiempo de ejecución: \", endTime - startTime)\n",
    "print(result)"
   ]
  },
  {
   "cell_type": "markdown",
   "metadata": {},
   "source": [
    "# Conclusiones"
   ]
  }
 ],
 "metadata": {
  "kernelspec": {
   "display_name": "Python 3",
   "language": "python",
   "name": "python3"
  },
  "language_info": {
   "codemirror_mode": {
    "name": "ipython",
    "version": 3
   },
   "file_extension": ".py",
   "mimetype": "text/x-python",
   "name": "python",
   "nbconvert_exporter": "python",
   "pygments_lexer": "ipython3",
   "version": "3.11.4"
  }
 },
 "nbformat": 4,
 "nbformat_minor": 2
}
