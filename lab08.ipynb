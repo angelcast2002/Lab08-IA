{
 "cells": [
  {
   "cell_type": "markdown",
   "metadata": {},
   "source": [
    "# Task 1 - Teoría"
   ]
  },
  {
   "cell_type": "markdown",
   "metadata": {},
   "source": [
    "1. Investigar el algoritmo AC-3 y su relación con el algoritmo de backtracking search"
   ]
  },
  {
   "cell_type": "markdown",
   "metadata": {},
   "source": [
    "2. Defina en sus propias palabras el término “Arc Consistency”"
   ]
  },
  {
   "cell_type": "markdown",
   "metadata": {},
   "source": [
    "# Task 2 - CSP con Backtracking, Beam y Local Search"
   ]
  },
  {
   "cell_type": "markdown",
   "metadata": {},
   "source": [
    "## Definición de variables y restricciones"
   ]
  },
  {
   "cell_type": "code",
   "execution_count": 3,
   "metadata": {},
   "outputs": [],
   "source": [
    "from itertools import combinations\n",
    "\n",
    "# Definimos los dias disponibles para los examenes\n",
    "dias = ['lunes', 'martes', 'miercoles']\n",
    "\n",
    "# Definimos los exámenes y los estudiantes que toman cada examen\n",
    "examenes = ['IA', 'ADA', 'COMPIS', 'SO', 'BD2', 'MD']\n",
    "estudiantes_por_examen = {\n",
    "    'IA': ['Angel', 'Alejandro'],\n",
    "    'ADA': ['Angel', 'Diego'],\n",
    "    'COMPIS': ['Alejandro', 'Mark'],\n",
    "    'SO': ['Angel', 'Mark'],\n",
    "    'BD2': ['Alejandro', 'Diego'],\n",
    "    'MD': ['Diego', 'Mark'],\n",
    "}\n",
    "\n",
    "\n",
    "# Definimos las variables que representan los exámenes y sus posibles días\n",
    "variables = {examen: dias for examen in examenes}\n"
   ]
  },
  {
   "cell_type": "markdown",
   "metadata": {},
   "source": [
    "## Verificar si la asignación es válida"
   ]
  },
  {
   "cell_type": "code",
   "execution_count": 4,
   "metadata": {},
   "outputs": [],
   "source": [
    "# Definimos la función para verificar si una asignación es válida\n",
    "def esValida(asignacion):\n",
    "    # Verificar que no haya dos examenes en el mismo dia\n",
    "    for dia in dias:\n",
    "        examenesPorDia = [examen for examen, diaAsignado in asignacion.items() if diaAsignado == dia]\n",
    "        if len(examenesPorDia) > 1:\n",
    "            return False\n",
    "    \n",
    "    # Verificar que los estudiantes que toman el mismo curso no tengan examen el mismo dia\n",
    "    for examen1, examen2 in combinations(examenes, 2):\n",
    "        if asignacion[examen1] == asignacion[examen2]:\n",
    "            estudiantes_examen1 = set(estudiantes_por_examen[examen1])\n",
    "            estudiantes_examen2 = set(estudiantes_por_examen[examen2])\n",
    "            if len(estudiantes_examen1.intersection(estudiantes_examen2)) > 0:\n",
    "                return False\n",
    "    \n",
    "    return True"
   ]
  }
 ],
 "metadata": {
  "kernelspec": {
   "display_name": "Python 3",
   "language": "python",
   "name": "python3"
  },
  "language_info": {
   "codemirror_mode": {
    "name": "ipython",
    "version": 3
   },
   "file_extension": ".py",
   "mimetype": "text/x-python",
   "name": "python",
   "nbconvert_exporter": "python",
   "pygments_lexer": "ipython3",
   "version": "3.11.4"
  }
 },
 "nbformat": 4,
 "nbformat_minor": 2
}
